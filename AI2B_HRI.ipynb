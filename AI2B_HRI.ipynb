{
 "cells": [
  {
   "cell_type": "markdown",
   "metadata": {},
   "source": [
    "# Task oriented SDS\n",
    "### Scenario: bartender controls your age\n",
    "You came to the bar and want to buy something to drink (alco or non alco). \n",
    "You see to the following menu:"
   ]
  },
  {
   "cell_type": "code",
   "execution_count": 1,
   "metadata": {},
   "outputs": [],
   "source": [
    "alco_menu = ['vodka','tequila','beer']\n",
    "non_alco_menu = ['juice','water','tea']"
   ]
  },
  {
   "cell_type": "markdown",
   "metadata": {},
   "source": [
    "Bartender welcomes you and tell you all about drinks"
   ]
  },
  {
   "cell_type": "code",
   "execution_count": 2,
   "metadata": {},
   "outputs": [],
   "source": [
    "import speak\n",
    "\n",
    "hi_speech = 'Hello! Welcome to my bar. What do you wanna drink?'\n",
    "\n",
    "speak.tts(hi_speech, 'en')"
   ]
  },
  {
   "cell_type": "code",
   "execution_count": 3,
   "metadata": {},
   "outputs": [],
   "source": [
    "speak.tts('We have alcoholic drinks', 'en')\n",
    "for alco in alco_menu:\n",
    "    speak.tts(alco, 'en')\n",
    "speak.tts('Also we have non alcoholic drinks', 'en')\n",
    "for n_alco in non_alco_menu:\n",
    "    speak.tts(n_alco, 'en')"
   ]
  },
  {
   "cell_type": "code",
   "execution_count": 4,
   "metadata": {},
   "outputs": [
    {
     "name": "stdout",
     "output_type": "stream",
     "text": [
      "<class 'set'> {'vodka', 'beer', 'tequila'}\n"
     ]
    }
   ],
   "source": [
    "alco_drinks = set(alco_menu)\n",
    "non_alco_drinks = set(non_alco_menu)\n",
    "print(type(alco_drinks), alco_drinks)"
   ]
  },
  {
   "cell_type": "markdown",
   "metadata": {},
   "source": [
    "## USER ACTIVITY:\n",
    "You have to tell to the bartender what did you choose"
   ]
  },
  {
   "cell_type": "code",
   "execution_count": 5,
   "metadata": {},
   "outputs": [],
   "source": [
    "speak.tts('What do you wanna drink?', 'en')"
   ]
  },
  {
   "cell_type": "code",
   "execution_count": 16,
   "metadata": {
    "scrolled": false
   },
   "outputs": [
    {
     "name": "stdout",
     "output_type": "stream",
     "text": [
      "Say something!\n",
      "I'm waiting for your comand...\n",
      "\n",
      "Done! Wait for results...\n",
      "You told: I want to drink vodka with ice\n"
     ]
    }
   ],
   "source": [
    "import speech_recognition as sr\n",
    "\n",
    "r = sr.Recognizer()\n",
    "\n",
    "with sr.Microphone() as source:\n",
    "    print('Say something!\\nI\\'m waiting for your comand...')\n",
    "    audio = r.listen(source)\n",
    "    print('\\nDone! Wait for results...')\n",
    "try:\n",
    "    recognized_text = r.recognize_google(audio,language=\"en-US\")\n",
    "    print('You told: ' + recognized_text)\n",
    "except Exception as e:\n",
    "    print('Error is:' + e)\n"
   ]
  },
  {
   "cell_type": "markdown",
   "metadata": {},
   "source": [
    "#### SPACY parser paints dependency trees for user's sentence to give a possibility for better understanding of the sentence, which was recognized"
   ]
  },
  {
   "cell_type": "code",
   "execution_count": 17,
   "metadata": {},
   "outputs": [
    {
     "data": {
      "text/html": [
       "<svg xmlns=\"http://www.w3.org/2000/svg\" xmlns:xlink=\"http://www.w3.org/1999/xlink\" id=\"775-0\" class=\"displacy\" width=\"1275\" height=\"312.0\" style=\"max-width: none; height: 312.0px; color: #000000; background: #ffffff; font-family: Arial\">\n",
       "<text class=\"displacy-token\" fill=\"currentColor\" text-anchor=\"middle\" y=\"222.0\">\n",
       "    <tspan class=\"displacy-word\" fill=\"currentColor\" x=\"50\">I</tspan>\n",
       "    <tspan class=\"displacy-tag\" dy=\"2em\" fill=\"currentColor\" x=\"50\">PRON</tspan>\n",
       "</text>\n",
       "\n",
       "<text class=\"displacy-token\" fill=\"currentColor\" text-anchor=\"middle\" y=\"222.0\">\n",
       "    <tspan class=\"displacy-word\" fill=\"currentColor\" x=\"225\">want</tspan>\n",
       "    <tspan class=\"displacy-tag\" dy=\"2em\" fill=\"currentColor\" x=\"225\">VERB</tspan>\n",
       "</text>\n",
       "\n",
       "<text class=\"displacy-token\" fill=\"currentColor\" text-anchor=\"middle\" y=\"222.0\">\n",
       "    <tspan class=\"displacy-word\" fill=\"currentColor\" x=\"400\">to</tspan>\n",
       "    <tspan class=\"displacy-tag\" dy=\"2em\" fill=\"currentColor\" x=\"400\">PART</tspan>\n",
       "</text>\n",
       "\n",
       "<text class=\"displacy-token\" fill=\"currentColor\" text-anchor=\"middle\" y=\"222.0\">\n",
       "    <tspan class=\"displacy-word\" fill=\"currentColor\" x=\"575\">drink</tspan>\n",
       "    <tspan class=\"displacy-tag\" dy=\"2em\" fill=\"currentColor\" x=\"575\">VERB</tspan>\n",
       "</text>\n",
       "\n",
       "<text class=\"displacy-token\" fill=\"currentColor\" text-anchor=\"middle\" y=\"222.0\">\n",
       "    <tspan class=\"displacy-word\" fill=\"currentColor\" x=\"750\">vodka</tspan>\n",
       "    <tspan class=\"displacy-tag\" dy=\"2em\" fill=\"currentColor\" x=\"750\">NOUN</tspan>\n",
       "</text>\n",
       "\n",
       "<text class=\"displacy-token\" fill=\"currentColor\" text-anchor=\"middle\" y=\"222.0\">\n",
       "    <tspan class=\"displacy-word\" fill=\"currentColor\" x=\"925\">with</tspan>\n",
       "    <tspan class=\"displacy-tag\" dy=\"2em\" fill=\"currentColor\" x=\"925\">ADP</tspan>\n",
       "</text>\n",
       "\n",
       "<text class=\"displacy-token\" fill=\"currentColor\" text-anchor=\"middle\" y=\"222.0\">\n",
       "    <tspan class=\"displacy-word\" fill=\"currentColor\" x=\"1100\">ice</tspan>\n",
       "    <tspan class=\"displacy-tag\" dy=\"2em\" fill=\"currentColor\" x=\"1100\">NOUN</tspan>\n",
       "</text>\n",
       "\n",
       "<g class=\"displacy-arrow\">\n",
       "    <path class=\"displacy-arc\" id=\"arrow-775-0-0\" stroke-width=\"2px\" d=\"M70,177.0 C70,89.5 220.0,89.5 220.0,177.0\" fill=\"none\" stroke=\"currentColor\"/>\n",
       "    <text dy=\"1.25em\" style=\"font-size: 0.8em; letter-spacing: 1px\">\n",
       "        <textPath xlink:href=\"#arrow-775-0-0\" class=\"displacy-label\" startOffset=\"50%\" fill=\"currentColor\" text-anchor=\"middle\">nsubj</textPath>\n",
       "    </text>\n",
       "    <path class=\"displacy-arrowhead\" d=\"M70,179.0 L62,167.0 78,167.0\" fill=\"currentColor\"/>\n",
       "</g>\n",
       "\n",
       "<g class=\"displacy-arrow\">\n",
       "    <path class=\"displacy-arc\" id=\"arrow-775-0-1\" stroke-width=\"2px\" d=\"M420,177.0 C420,89.5 570.0,89.5 570.0,177.0\" fill=\"none\" stroke=\"currentColor\"/>\n",
       "    <text dy=\"1.25em\" style=\"font-size: 0.8em; letter-spacing: 1px\">\n",
       "        <textPath xlink:href=\"#arrow-775-0-1\" class=\"displacy-label\" startOffset=\"50%\" fill=\"currentColor\" text-anchor=\"middle\">aux</textPath>\n",
       "    </text>\n",
       "    <path class=\"displacy-arrowhead\" d=\"M420,179.0 L412,167.0 428,167.0\" fill=\"currentColor\"/>\n",
       "</g>\n",
       "\n",
       "<g class=\"displacy-arrow\">\n",
       "    <path class=\"displacy-arc\" id=\"arrow-775-0-2\" stroke-width=\"2px\" d=\"M245,177.0 C245,2.0 575.0,2.0 575.0,177.0\" fill=\"none\" stroke=\"currentColor\"/>\n",
       "    <text dy=\"1.25em\" style=\"font-size: 0.8em; letter-spacing: 1px\">\n",
       "        <textPath xlink:href=\"#arrow-775-0-2\" class=\"displacy-label\" startOffset=\"50%\" fill=\"currentColor\" text-anchor=\"middle\">xcomp</textPath>\n",
       "    </text>\n",
       "    <path class=\"displacy-arrowhead\" d=\"M575.0,179.0 L583.0,167.0 567.0,167.0\" fill=\"currentColor\"/>\n",
       "</g>\n",
       "\n",
       "<g class=\"displacy-arrow\">\n",
       "    <path class=\"displacy-arc\" id=\"arrow-775-0-3\" stroke-width=\"2px\" d=\"M595,177.0 C595,89.5 745.0,89.5 745.0,177.0\" fill=\"none\" stroke=\"currentColor\"/>\n",
       "    <text dy=\"1.25em\" style=\"font-size: 0.8em; letter-spacing: 1px\">\n",
       "        <textPath xlink:href=\"#arrow-775-0-3\" class=\"displacy-label\" startOffset=\"50%\" fill=\"currentColor\" text-anchor=\"middle\">dobj</textPath>\n",
       "    </text>\n",
       "    <path class=\"displacy-arrowhead\" d=\"M745.0,179.0 L753.0,167.0 737.0,167.0\" fill=\"currentColor\"/>\n",
       "</g>\n",
       "\n",
       "<g class=\"displacy-arrow\">\n",
       "    <path class=\"displacy-arc\" id=\"arrow-775-0-4\" stroke-width=\"2px\" d=\"M595,177.0 C595,2.0 925.0,2.0 925.0,177.0\" fill=\"none\" stroke=\"currentColor\"/>\n",
       "    <text dy=\"1.25em\" style=\"font-size: 0.8em; letter-spacing: 1px\">\n",
       "        <textPath xlink:href=\"#arrow-775-0-4\" class=\"displacy-label\" startOffset=\"50%\" fill=\"currentColor\" text-anchor=\"middle\">prep</textPath>\n",
       "    </text>\n",
       "    <path class=\"displacy-arrowhead\" d=\"M925.0,179.0 L933.0,167.0 917.0,167.0\" fill=\"currentColor\"/>\n",
       "</g>\n",
       "\n",
       "<g class=\"displacy-arrow\">\n",
       "    <path class=\"displacy-arc\" id=\"arrow-775-0-5\" stroke-width=\"2px\" d=\"M945,177.0 C945,89.5 1095.0,89.5 1095.0,177.0\" fill=\"none\" stroke=\"currentColor\"/>\n",
       "    <text dy=\"1.25em\" style=\"font-size: 0.8em; letter-spacing: 1px\">\n",
       "        <textPath xlink:href=\"#arrow-775-0-5\" class=\"displacy-label\" startOffset=\"50%\" fill=\"currentColor\" text-anchor=\"middle\">pobj</textPath>\n",
       "    </text>\n",
       "    <path class=\"displacy-arrowhead\" d=\"M1095.0,179.0 L1103.0,167.0 1087.0,167.0\" fill=\"currentColor\"/>\n",
       "</g>\n",
       "</svg>"
      ],
      "text/plain": [
       "<IPython.core.display.HTML object>"
      ]
     },
     "metadata": {},
     "output_type": "display_data"
    },
    {
     "data": {
      "text/plain": [
       "str"
      ]
     },
     "execution_count": 17,
     "metadata": {},
     "output_type": "execute_result"
    }
   ],
   "source": [
    "import spacy\n",
    "from spacy import displacy\n",
    "\n",
    "nlp = spacy.load('en_core_web_sm')\n",
    "doc = nlp(recognized_text)\n",
    "displacy.render(doc, style='dep', jupyter=True)\n",
    "type(recognized_text)"
   ]
  },
  {
   "cell_type": "markdown",
   "metadata": {},
   "source": [
    "SPACY understands which nouns were told in the user's sentence and collect it together."
   ]
  },
  {
   "cell_type": "code",
   "execution_count": 18,
   "metadata": {},
   "outputs": [
    {
     "name": "stdout",
     "output_type": "stream",
     "text": [
      "nouns are: {'ice', 'vodka'}\n",
      "Length nouns 2\n"
     ]
    }
   ],
   "source": [
    "from spacy.symbols import NUM, NOUN\n",
    "\n",
    "nouns = set()\n",
    "for possible_subject in doc:\n",
    "    if possible_subject.pos == NOUN:\n",
    "        nouns.add(possible_subject.text)\n",
    "print('nouns are:',nouns)\n",
    "print('Length nouns',len(nouns))"
   ]
  },
  {
   "cell_type": "markdown",
   "metadata": {},
   "source": [
    "# USER ACTIVITY:\n",
    "###### program understands, which drinks do you want to buy and provides different reaction depending on this:\n",
    "###### 1) alco drink: asks, how old is user and gives him a possibility to answer with numbers:\n",
    "    a) if a user tells < than 21 y.o., then the bartender provides a negative answer;\n",
    "    b) if a user tells >= than 21 y.o., then the bartender provides a positive answer;\n",
    "###### 2) non alco drink: the bartender provides a positive answer and asks money;\n",
    "###### 3) words of a user does not contain contents of the menu: negative answer and a user has to go to the start of the program."
   ]
  },
  {
   "cell_type": "code",
   "execution_count": 19,
   "metadata": {},
   "outputs": [
    {
     "name": "stdout",
     "output_type": "stream",
     "text": [
      "ALCO FOUND\n",
      "Answer to the bartender, please!\n",
      "She is waiting...\n",
      "\n",
      "Done! Wait for results...\n",
      "You told: I am 21 years old\n",
      "You are  21 y.o.\n",
      "Bartender answer is: YES\n"
     ]
    }
   ],
   "source": [
    "#nouns = {'watehr', 'tequilas'}\n",
    "bart_question = []\n",
    "\n",
    "for drink in nouns:\n",
    "    if drink in alco_drinks:\n",
    "        speak.tts('You wanna buy alcohol.', 'en')\n",
    "        speak.tts('How old are you?', 'en')\n",
    "        print('ALCO FOUND')\n",
    "        \n",
    "        #are you elder than 21?\n",
    "        r = sr.Recognizer()\n",
    "\n",
    "        with sr.Microphone() as source:\n",
    "            print('Answer to the bartender, please!\\nShe is waiting...')\n",
    "            audio = r.listen(source)\n",
    "            print('\\nDone! Wait for results...')\n",
    "        try:\n",
    "            recognized_answer = r.recognize_google(audio,language=\"en-US\")\n",
    "            print('You told: ' + recognized_answer)\n",
    "        except Exception as e:\n",
    "            print('Error is:' + e)\n",
    "        \n",
    "        nlp = spacy.load('en_core_web_sm')\n",
    "        doc = nlp(recognized_answer)\n",
    "        years = []\n",
    "        for possible_subject in doc:\n",
    "            if possible_subject.pos == NUM:\n",
    "                years.append(possible_subject.text)\n",
    "                print('You are ', years[0], 'y.o.')\n",
    "                if int(years[0]) < 21:\n",
    "                    bart_alco_ans = 'I can not sell alcohol to a baby'\n",
    "                    bart_answer = 'NO'\n",
    "                else:\n",
    "                    bart_alco_ans = 'Ok, I agree! Give your money, men!'\n",
    "                    bart_answer = 'YES'\n",
    "                speak.tts(bart_alco_ans, 'en')\n",
    "                break\n",
    "        else:\n",
    "            speak.tts('I dont know your age. Today you are without alcohol!', 'en')   \n",
    "        break\n",
    "\n",
    "else:\n",
    "    if drink in non_alco_drinks:\n",
    "        print('NONALCO FOUND')\n",
    "        bart_question.append('Have a nice evening! Goog choice for your health!')\n",
    "        speak.tts(bart_question[0], 'en')\n",
    "        bart_answer = 'YES'\n",
    "    else:\n",
    "        bart_question.append('ARE YOU ALREADY DRUNK? It is not in menu. Go to sleep!')\n",
    "        print('YOU TOLD SOMETHING WRONG')\n",
    "        speak.tts(bart_question[0], 'en')\n",
    "        bart_answer = 'IT IS BETTER TO SLEEP'\n",
    "print('Bartender answer is:', bart_answer)"
   ]
  }
 ],
 "metadata": {
  "kernelspec": {
   "display_name": "Python 3",
   "language": "python",
   "name": "python3"
  },
  "language_info": {
   "codemirror_mode": {
    "name": "ipython",
    "version": 3
   },
   "file_extension": ".py",
   "mimetype": "text/x-python",
   "name": "python",
   "nbconvert_exporter": "python",
   "pygments_lexer": "ipython3",
   "version": "3.6.5"
  }
 },
 "nbformat": 4,
 "nbformat_minor": 2
}
